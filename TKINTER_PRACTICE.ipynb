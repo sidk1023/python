{
 "cells": [
  {
   "cell_type": "code",
   "execution_count": 1,
   "metadata": {},
   "outputs": [],
   "source": [
    "import tkinter"
   ]
  },
  {
   "cell_type": "code",
   "execution_count": 60,
   "metadata": {},
   "outputs": [],
   "source": [
    "from tkinter.ttk import*"
   ]
  },
  {
   "cell_type": "markdown",
   "metadata": {},
   "source": [
    "# Basic Widget References"
   ]
  },
  {
   "cell_type": "markdown",
   "metadata": {},
   "source": [
    "1. Basic example"
   ]
  },
  {
   "cell_type": "code",
   "execution_count": 145,
   "metadata": {},
   "outputs": [],
   "source": [
    "#basic example\n",
    "window = tkinter.Tk()\n",
    "window.title(\"GUI\")\n",
    "window.geometry('350x200')\n",
    "label = tkinter.Label(window, text = 'Hello World', font = (\"Arial Bold\", 10) )\n",
    "label.grid(column = 5,row = 0)\n",
    "def clicked():\n",
    "    \n",
    "    ent = \"welcome \"+ txt.get()\n",
    "    label.configure(text = ent)\n",
    "bt = tkinter.Button(window, text = \"enter\", bg = 'blue', fg = 'white', command = clicked)\n",
    "bt.grid(column = 2, row =1)\n",
    "\n",
    "txt = tkinter.Entry(window, width = 10)\n",
    "txt.grid(column=0,row=1)\n",
    "combo = Combobox(window)\n",
    "combo['values']= (1,2,3,4,5,\"text\")\n",
    "combo.current(0)\n",
    "combo.grid(column =  0, row =3)\n",
    "\n",
    "\n",
    "window.mainloop()"
   ]
  },
  {
   "cell_type": "markdown",
   "metadata": {},
   "source": [
    "2. label, button, entry"
   ]
  },
  {
   "cell_type": "code",
   "execution_count": 144,
   "metadata": {},
   "outputs": [],
   "source": [
    "\n",
    "\n",
    "gui = tkinter.Tk()\n",
    "gui.title(\"gui\")\n",
    "gui.geometry('350x350')\n",
    "label = tkinter.Label(gui, text = \"hello\")\n",
    "label.grid(column = 15, row = 0)\n",
    "entry = tkinter.Entry(gui, width = 10)\n",
    "entry.grid(column = 1, row = 1)\n",
    "def enter():\n",
    "    txt = \"welcome \"+ entry.get()\n",
    "    label.configure(text = txt)\n",
    "bt = tkinter.Button(gui, text = \"enter\", bg = 'yellow', fg = 'red', command = enter)\n",
    "bt.grid(column = 3, row = 1)\n",
    "gui.mainloop()"
   ]
  },
  {
   "cell_type": "markdown",
   "metadata": {},
   "source": [
    "3. combobox"
   ]
  },
  {
   "cell_type": "code",
   "execution_count": 82,
   "metadata": {},
   "outputs": [],
   "source": [
    "\n",
    "\n",
    "cb = tkinter.Tk()\n",
    "cb.title(\"combobox\")\n",
    "combo = Combobox(cb)\n",
    "combo['values'] = (1,2,3,4,5,6,\"7\")\n",
    "combo.current(0)\n",
    "combo.pack()\n",
    "cb.mainloop()"
   ]
  },
  {
   "cell_type": "markdown",
   "metadata": {},
   "source": [
    "4. Checkbox"
   ]
  },
  {
   "cell_type": "code",
   "execution_count": 85,
   "metadata": {},
   "outputs": [],
   "source": [
    "\n",
    "\n",
    "cb = tkinter.Tk()\n",
    "cb.title(\"checkbox\")\n",
    "state = tkinter.BooleanVar()#this is a built in type in tkinter\n",
    "state.set(False)\n",
    "box = Checkbutton(cb, text = \"tick\",  var = state)\n",
    "box.grid(column = 0, row = 0 )\n",
    "cb.mainloop()"
   ]
  },
  {
   "cell_type": "markdown",
   "metadata": {},
   "source": [
    "5. radiobutton"
   ]
  },
  {
   "cell_type": "code",
   "execution_count": null,
   "metadata": {},
   "outputs": [],
   "source": [
    "\n",
    "rb = tkinter.Tk()\n",
    "rb.title('radiobutton')\n",
    "rad1 = Radiobutton(rb, text = 'option1', value = 1)\n",
    "rad2 = Radiobutton(rb, text = 'option2', value = 2)\n",
    "rad3 = Radiobutton(rb, text = 'option3', value = 3)\n",
    "rad1.grid(column = 0, row = 0)\n",
    "rad2.grid(column = 1, row = 0)\n",
    "rad3.grid(column = 2, row = 0)\n",
    "rb.mainloop()"
   ]
  },
  {
   "cell_type": "markdown",
   "metadata": {},
   "source": [
    "6. scrolledtext"
   ]
  },
  {
   "cell_type": "code",
   "execution_count": 97,
   "metadata": {},
   "outputs": [],
   "source": [
    "\n",
    "st = tkinter.Tk()\n",
    "from tkinter import scrolledtext\n",
    "txt = scrolledtext.ScrolledText(st, width = 30, height = 10)\n",
    "txt.grid()\n",
    "\n",
    "st.mainloop()"
   ]
  },
  {
   "cell_type": "markdown",
   "metadata": {},
   "source": [
    "7. messagebox\n"
   ]
  },
  {
   "cell_type": "code",
   "execution_count": 98,
   "metadata": {},
   "outputs": [],
   "source": [
    "from tkinter import messagebox\n",
    "def clicked():\n",
    "    messagebox.showinfo(\"messagebox\", \"messagecontent\")\n",
    "mb = tkinter.Tk()\n",
    "mb.title(\"messagebox\")\n",
    "bt = tkinter.Button(mb, text = \"enter\", command = clicked)\n",
    "bt.grid()\n",
    "mb.mainloop()\n"
   ]
  },
  {
   "cell_type": "markdown",
   "metadata": {},
   "source": [
    "8. spinbox"
   ]
  },
  {
   "cell_type": "code",
   "execution_count": null,
   "metadata": {},
   "outputs": [],
   "source": [
    "\n",
    "sb = tkinter.Tk()\n",
    "spin = Spinbox(sb, from_ = 0, to_=100, width = 5)\n",
    "spin.grid()\n",
    "sb.mainloop()"
   ]
  },
  {
   "cell_type": "markdown",
   "metadata": {},
   "source": [
    "\n"
   ]
  },
  {
   "cell_type": "markdown",
   "metadata": {},
   "source": [
    "# Geometry Management"
   ]
  },
  {
   "cell_type": "code",
   "execution_count": null,
   "metadata": {},
   "outputs": [],
   "source": [
    "#pack() is similar to div tag in html\n",
    "#grid() organizes in table like structure\n",
    "#place() can specify position\n",
    "\n"
   ]
  },
  {
   "cell_type": "markdown",
   "metadata": {},
   "source": [
    "LAYOUT ORGANIZING"
   ]
  },
  {
   "cell_type": "code",
   "execution_count": 101,
   "metadata": {},
   "outputs": [],
   "source": [
    "# use Frame class with pack parameter \"side\""
   ]
  },
  {
   "cell_type": "code",
   "execution_count": 107,
   "metadata": {},
   "outputs": [],
   "source": [
    "#example\n",
    "import tkinter\n",
    "ex = tkinter.Tk()\n",
    "ex.title(\"GUI\")\n",
    "ex.geometry(\"200x200\")\n",
    "top_frame = tkinter.Frame(ex).pack()\n",
    "bottom_frame = tkinter.Frame(ex).pack(side= 'bottom')\n",
    "btn1 = tkinter.Button(top_frame, text = \"button1\", fg = 'purple').pack()\n",
    "btn2 = tkinter.Button(top_frame, text = \"button2\", fg = 'green').pack()\n",
    "btn3 = tkinter.Button(bottom_frame, text = \"button3\", fg = 'pink').pack(side = 'left')\n",
    "btn4 =tkinter.Button(bottom_frame, text = \"button4\", fg = 'orange').pack(side = 'right')\n",
    "ex.mainloop()"
   ]
  },
  {
   "cell_type": "code",
   "execution_count": 129,
   "metadata": {},
   "outputs": [],
   "source": [
    "#sample login\n",
    "\n",
    "from tkinter import messagebox \n",
    "\n",
    "window = tkinter.Tk()\n",
    "window.title(\"Login\")\n",
    "tkinter.Label(text = \"Username\").grid(row=0)\n",
    "uid = tkinter.Entry(window)\n",
    "uid.grid(row=0,column=1)\n",
    "tkinter.Label(text=\"Password\").grid(row=1)\n",
    "pwd = tkinter.Entry(window)\n",
    "pwd.grid(row = 1, column = 1)\n",
    "\n",
    "def welcome():\n",
    "    if uid.get()=='sid'and pwd.get()== 'pass':\n",
    "        string = uid.get()\n",
    "        messagebox.showinfo(\"Success\", \"welcome \"+ string+ '!')\n",
    "    else:\n",
    "        messagebox.showinfo(\"Failure\", \"invalid credentials\")\n",
    "        \n",
    "tkinter.Checkbutton(window, text = \"Keep me logged in\").grid(columnspan = 2)        \n",
    "tkinter.Button(text = 'LogIn', command = welcome ).grid(columnspan = 2)\n",
    "window.mainloop()"
   ]
  },
  {
   "cell_type": "markdown",
   "metadata": {},
   "source": [
    "# Functions\n",
    "\n",
    "    "
   ]
  },
  {
   "cell_type": "code",
   "execution_count": 132,
   "metadata": {},
   "outputs": [],
   "source": [
    "#example of passing functionality to button\n",
    "\n",
    "import tkinter\n",
    "window = tkinter.Tk()\n",
    "window.title(\"GUI\")\n",
    "def say_hi():\n",
    "    tkinter.Label(window, text =\"hi\").pack()\n",
    "\n",
    "tkinter.Button(window ,text = \"click me!\", command = say_hi).pack()\n",
    "window.mainloop()"
   ]
  },
  {
   "cell_type": "code",
   "execution_count": 135,
   "metadata": {},
   "outputs": [],
   "source": [
    "#binding with click\n",
    "import tkinter\n",
    "window = tkinter.Tk()\n",
    "window.title(\"GUI\")\n",
    "#creating 3 different functions for 3 events\n",
    "def left_click(event):\n",
    " \n",
    "    tkinter.Label(window, text = \"Left Click!\").pack()\n",
    "def midde_click(event):\n",
    " \n",
    "    tkinter.Label(window, text = \"Middle Click!\").pack()\n",
    "def right_click(event):\n",
    " \n",
    "    tkinter.Label(window, text = \"Right Click!\").pack()\n",
    "window.bind(\"<Button-1>\", left_click)\n",
    "window.bind(\"<Button-2>\", midde_click)\n",
    "window.bind(\"<Button-3>\", right_click)\n",
    "window.mainloop()\n",
    "    \n",
    "    "
   ]
  },
  {
   "cell_type": "markdown",
   "metadata": {},
   "source": [
    "# Adding Images"
   ]
  },
  {
   "cell_type": "code",
   "execution_count": 137,
   "metadata": {},
   "outputs": [],
   "source": [
    "#use the class PhotoImage\n",
    "#icon = tkinter.PhotoImage(file=\"##filepath##\")\n",
    "#label = tkinter.Label(window, image = icon)"
   ]
  },
  {
   "cell_type": "code",
   "execution_count": 143,
   "metadata": {},
   "outputs": [],
   "source": [
    "from tkinter import *\n",
    "# creating basic window\n",
    "window = Tk()\n",
    "window.geometry(\"312x324\") # size of the window width:- 500, height:- 375\n",
    "window.resizable(0, 0) # this prevents from resizing the window\n",
    "window.title(\"Calcualtor\")\n",
    "################################### functions ######################################\n",
    "# 'btn_click' function continuously updates the input field whenever you enters a number\n",
    "def btn_click(item):\n",
    " \n",
    "    global expression\n",
    " \n",
    "    expression = expression + str(item)\n",
    " \n",
    "    input_text.set(expression)\n",
    "# 'btn_clear' function clears the input field\n",
    "def btn_clear():\n",
    " \n",
    "    global expression\n",
    " \n",
    "    expression = \"\"\n",
    " \n",
    "    input_text.set(\"\")\n",
    " \n",
    "# 'btn_equal' calculates the expression present in input field\n",
    " \n",
    "def btn_equal():\n",
    " \n",
    "    global expression\n",
    " \n",
    "    result = str(eval(expression)) # 'eval' function evalutes the string expression directly\n",
    " \n",
    "    # you can also implement your own function to evalute the expression istead of 'eval' function\n",
    " \n",
    "    input_text.set(result)\n",
    " \n",
    "    expression = \"\"\n",
    " \n",
    "expression = \"\"\n",
    " \n",
    "# 'StringVar()' is used to get the instance of input field\n",
    " \n",
    "input_text = StringVar()\n",
    " \n",
    "# creating a frame for the input field\n",
    " \n",
    "input_frame = Frame(window, width = 312, height = 50, bd = 0, highlightbackground = \"black\", highlightcolor = \"black\", highlightthickness = 1)\n",
    " \n",
    "input_frame.pack(side = TOP)\n",
    " \n",
    "# creating a input field inside the 'Frame'\n",
    " \n",
    "input_field = Entry(input_frame, font = ('arial', 18, 'bold'), textvariable = input_text, width = 50, bg = \"#eee\", bd = 0, justify = RIGHT)\n",
    " \n",
    "input_field.grid(row = 0, column = 0)\n",
    " \n",
    "input_field.pack(ipady = 10) # 'ipady' is internal padding to increase the height of input field\n",
    " \n",
    "# creating another 'Frame' for the button below the 'input_frame'\n",
    " \n",
    "btns_frame = Frame(window, width = 312, height = 272.5, bg = \"grey\")\n",
    " \n",
    "btns_frame.pack()\n",
    " \n",
    "# first row\n",
    " \n",
    "clear = Button(btns_frame, text = \"C\", fg = \"black\", width = 32, height = 3, bd = 0, bg = \"#eee\", cursor = \"hand2\", command = lambda: btn_clear()).grid(row = 0, column = 0, columnspan = 3, padx = 1, pady = 1)\n",
    " \n",
    "divide = Button(btns_frame, text = \"/\", fg = \"black\", width = 10, height = 3, bd = 0, bg = \"#eee\", cursor = \"hand2\", command = lambda: btn_click(\"/\")).grid(row = 0, column = 3, padx = 1, pady = 1)\n",
    " \n",
    "# second row\n",
    " \n",
    "seven = Button(btns_frame, text = \"7\", fg = \"black\", width = 10, height = 3, bd = 0, bg = \"#fff\", cursor = \"hand2\", command = lambda: btn_click(7)).grid(row = 1, column = 0, padx = 1, pady = 1)\n",
    " \n",
    "eight = Button(btns_frame, text = \"8\", fg = \"black\", width = 10, height = 3, bd = 0, bg = \"#fff\", cursor = \"hand2\", command = lambda: btn_click(8)).grid(row = 1, column = 1, padx = 1, pady = 1)\n",
    " \n",
    "nine = Button(btns_frame, text = \"9\", fg = \"black\", width = 10, height = 3, bd = 0, bg = \"#fff\", cursor = \"hand2\", command = lambda: btn_click(9)).grid(row = 1, column = 2, padx = 1, pady = 1)\n",
    " \n",
    "multiply = Button(btns_frame, text = \"*\", fg = \"black\", width = 10, height = 3, bd = 0, bg = \"#eee\", cursor = \"hand2\", command = lambda: btn_click(\"*\")).grid(row = 1, column = 3, padx = 1, pady = 1)\n",
    " \n",
    "# third row\n",
    " \n",
    "four = Button(btns_frame, text = \"4\", fg = \"black\", width = 10, height = 3, bd = 0, bg = \"#fff\", cursor = \"hand2\", command = lambda: btn_click(4)).grid(row = 2, column = 0, padx = 1, pady = 1)\n",
    " \n",
    "five = Button(btns_frame, text = \"5\", fg = \"black\", width = 10, height = 3, bd = 0, bg = \"#fff\", cursor = \"hand2\", command = lambda: btn_click(5)).grid(row = 2, column = 1, padx = 1, pady = 1)\n",
    " \n",
    "six = Button(btns_frame, text = \"6\", fg = \"black\", width = 10, height = 3, bd = 0, bg = \"#fff\", cursor = \"hand2\", command = lambda: btn_click(6)).grid(row = 2, column = 2, padx = 1, pady = 1)\n",
    " \n",
    "minus = Button(btns_frame, text = \"-\", fg = \"black\", width = 10, height = 3, bd = 0, bg = \"#eee\", cursor = \"hand2\", command = lambda: btn_click(\"-\")).grid(row = 2, column = 3, padx = 1, pady = 1)\n",
    " \n",
    "# fourth row\n",
    " \n",
    "one = Button(btns_frame, text = \"1\", fg = \"black\", width = 10, height = 3, bd = 0, bg = \"#fff\", cursor = \"hand2\", command = lambda: btn_click(1)).grid(row = 3, column = 0, padx = 1, pady = 1)\n",
    " \n",
    "two = Button(btns_frame, text = \"2\", fg = \"black\", width = 10, height = 3, bd = 0, bg = \"#fff\", cursor = \"hand2\", command = lambda: btn_click(2)).grid(row = 3, column = 1, padx = 1, pady = 1)\n",
    " \n",
    "three = Button(btns_frame, text = \"3\", fg = \"black\", width = 10, height = 3, bd = 0, bg = \"#fff\", cursor = \"hand2\", command = lambda: btn_click(3)).grid(row = 3, column = 2, padx = 1, pady = 1)\n",
    " \n",
    "plus = Button(btns_frame, text = \"+\", fg = \"black\", width = 10, height = 3, bd = 0, bg = \"#eee\", cursor = \"hand2\", command = lambda: btn_click(\"+\")).grid(row = 3, column = 3, padx = 1, pady = 1)\n",
    " \n",
    "# fourth row\n",
    " \n",
    "zero = Button(btns_frame, text = \"0\", fg = \"black\", width = 21, height = 3, bd = 0, bg = \"#fff\", cursor = \"hand2\", command = lambda: btn_click(0)).grid(row = 4, column = 0, columnspan = 2, padx = 1, pady = 1)\n",
    " \n",
    "point = Button(btns_frame, text = \".\", fg = \"black\", width = 10, height = 3, bd = 0, bg = \"#eee\", cursor = \"hand2\", command = lambda: btn_click(\".\")).grid(row = 4, column = 2, padx = 1, pady = 1)\n",
    " \n",
    "equals = Button(btns_frame, text = \"=\", fg = \"black\", width = 10, height = 3, bd = 0, bg = \"#eee\", cursor = \"hand2\", command = lambda: btn_equal()).grid(row = 4, column = 3, padx = 1, pady = 1)\n",
    " \n",
    "window.mainloop()"
   ]
  },
  {
   "cell_type": "code",
   "execution_count": null,
   "metadata": {},
   "outputs": [],
   "source": []
  }
 ],
 "metadata": {
  "kernelspec": {
   "display_name": "Python 3",
   "language": "python",
   "name": "python3"
  },
  "language_info": {
   "codemirror_mode": {
    "name": "ipython",
    "version": 3
   },
   "file_extension": ".py",
   "mimetype": "text/x-python",
   "name": "python",
   "nbconvert_exporter": "python",
   "pygments_lexer": "ipython3",
   "version": "3.7.6"
  }
 },
 "nbformat": 4,
 "nbformat_minor": 4
}
